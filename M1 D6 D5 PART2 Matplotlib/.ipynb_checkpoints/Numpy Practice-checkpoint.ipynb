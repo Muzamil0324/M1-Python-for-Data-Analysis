{
 "cells": [
  {
   "cell_type": "code",
   "execution_count": 3,
   "metadata": {
    "collapsed": true
   },
   "outputs": [],
   "source": [
    "import numpy as np\n",
    "# we import the numpy liberary to our notebook"
   ]
  },
  {
   "cell_type": "code",
   "execution_count": 4,
   "metadata": {},
   "outputs": [
    {
     "data": {
      "text/plain": [
       "'1.13.1'"
      ]
     },
     "execution_count": 4,
     "metadata": {},
     "output_type": "execute_result"
    }
   ],
   "source": [
    "np.__version__"
   ]
  },
  {
   "cell_type": "code",
   "execution_count": 5,
   "metadata": {},
   "outputs": [
    {
     "data": {
      "text/plain": [
       "array([1, 2, 3, 4, 5])"
      ]
     },
     "execution_count": 5,
     "metadata": {},
     "output_type": "execute_result"
    }
   ],
   "source": [
    "np.array([1,2,3,4,5])"
   ]
  },
  {
   "cell_type": "code",
   "execution_count": 7,
   "metadata": {},
   "outputs": [
    {
     "name": "stdout",
     "output_type": "stream",
     "text": [
      "[[1 2 3 4]\n",
      " [2 3 4 5]\n",
      " [3 4 5 6]\n",
      " [4 5 6 7]] \n",
      " (4, 4)\n"
     ]
    }
   ],
   "source": [
    "# make matrix of size 4 x 4\n",
    "d = np.array(\n",
    "[ [1,2,3,4],\n",
    "  [2,3,4,5],\n",
    "  [3,4,5,6],\n",
    "  [4,5,6,7]\n",
    "]\n",
    ")\n",
    "print(d,'\\n',d.shape)"
   ]
  },
  {
   "cell_type": "code",
   "execution_count": 8,
   "metadata": {},
   "outputs": [
    {
     "name": "stdout",
     "output_type": "stream",
     "text": [
      "[[ 0.  0.  0.  0.]\n",
      " [ 0.  0.  0.  0.]\n",
      " [ 0.  0.  0.  0.]]\n"
     ]
    }
   ],
   "source": [
    "a = np.zeros((3,4))\n",
    "print(a)"
   ]
  },
  {
   "cell_type": "code",
   "execution_count": 9,
   "metadata": {},
   "outputs": [
    {
     "name": "stdout",
     "output_type": "stream",
     "text": [
      "[[ 1.  1.  1.  1.]\n",
      " [ 1.  1.  1.  1.]\n",
      " [ 1.  1.  1.  1.]]\n"
     ]
    }
   ],
   "source": [
    "b = np.ones((3,4))\n",
    "print(b)"
   ]
  },
  {
   "cell_type": "code",
   "execution_count": 10,
   "metadata": {},
   "outputs": [
    {
     "name": "stdout",
     "output_type": "stream",
     "text": [
      "[[ 5.  5.  5.  5.]\n",
      " [ 5.  5.  5.  5.]\n",
      " [ 5.  5.  5.  5.]\n",
      " [ 5.  5.  5.  5.]]\n"
     ]
    }
   ],
   "source": [
    "e = np.full((4,4),5.)\n",
    "print(e)\n"
   ]
  },
  {
   "cell_type": "code",
   "execution_count": 12,
   "metadata": {},
   "outputs": [
    {
     "name": "stdout",
     "output_type": "stream",
     "text": [
      "[[ 0.0967643   0.90832949  0.6582792 ]\n",
      " [ 0.92209286  0.49121726  0.38749813]\n",
      " [ 0.20112461  0.14970975  0.34963414]]\n"
     ]
    }
   ],
   "source": [
    " r = np.random.random((3,3))\n",
    "print(r)"
   ]
  },
  {
   "cell_type": "code",
   "execution_count": 13,
   "metadata": {},
   "outputs": [
    {
     "name": "stdout",
     "output_type": "stream",
     "text": [
      "0\n",
      "1\n",
      "2\n",
      "3\n",
      "4\n",
      "5\n",
      "6\n",
      "7\n",
      "8\n",
      "9\n",
      "10\n",
      "11\n",
      "12\n",
      "13\n",
      "14\n",
      "15\n",
      "16\n",
      "17\n",
      "18\n",
      "19\n",
      "20\n",
      "21\n",
      "22\n",
      "23\n",
      "24\n",
      "25\n",
      "26\n",
      "27\n",
      "28\n",
      "29\n",
      "30\n",
      "31\n",
      "32\n",
      "33\n",
      "34\n",
      "35\n",
      "36\n",
      "37\n",
      "38\n",
      "39\n",
      "40\n",
      "41\n",
      "42\n",
      "43\n",
      "44\n",
      "45\n",
      "46\n",
      "47\n",
      "48\n",
      "49\n",
      "50\n",
      "51\n",
      "52\n",
      "53\n",
      "54\n",
      "55\n",
      "56\n",
      "57\n",
      "58\n",
      "59\n",
      "60\n",
      "61\n",
      "62\n",
      "63\n",
      "64\n",
      "65\n",
      "66\n",
      "67\n",
      "68\n",
      "69\n",
      "70\n",
      "71\n",
      "72\n",
      "73\n",
      "74\n",
      "75\n",
      "76\n",
      "77\n",
      "78\n",
      "79\n",
      "80\n",
      "81\n",
      "82\n",
      "83\n",
      "84\n",
      "85\n",
      "86\n",
      "87\n",
      "88\n",
      "89\n",
      "90\n",
      "91\n",
      "92\n",
      "93\n",
      "94\n",
      "95\n",
      "96\n",
      "97\n",
      "98\n",
      "99\n"
     ]
    }
   ],
   "source": [
    "for i in range(100):\n",
    "    print(i)\n",
    "    "
   ]
  },
  {
   "cell_type": "code",
   "execution_count": 14,
   "metadata": {},
   "outputs": [
    {
     "data": {
      "text/plain": [
       "array([[1, 2, 3, 4],\n",
       "       [2, 3, 4, 5],\n",
       "       [3, 4, 5, 6],\n",
       "       [4, 5, 6, 7]])"
      ]
     },
     "execution_count": 14,
     "metadata": {},
     "output_type": "execute_result"
    }
   ],
   "source": [
    "d"
   ]
  },
  {
   "cell_type": "code",
   "execution_count": 17,
   "metadata": {},
   "outputs": [
    {
     "data": {
      "text/plain": [
       "array([[1]])"
      ]
     },
     "execution_count": 17,
     "metadata": {},
     "output_type": "execute_result"
    }
   ],
   "source": [
    "d[0,1]\n"
   ]
  },
  {
   "cell_type": "code",
   "execution_count": 19,
   "metadata": {},
   "outputs": [
    {
     "name": "stdout",
     "output_type": "stream",
     "text": [
      "[[ 1.  0.  0. ...,  0.  0.  0.]\n",
      " [ 0.  1.  0. ...,  0.  0.  0.]\n",
      " [ 0.  0.  1. ...,  0.  0.  0.]\n",
      " ..., \n",
      " [ 0.  0.  0. ...,  1.  0.  0.]\n",
      " [ 0.  0.  0. ...,  0.  1.  0.]\n",
      " [ 0.  0.  0. ...,  0.  0.  1.]]\n"
     ]
    }
   ],
   "source": [
    "# generate a identity matrix of 50 x 50 \n",
    "i = np.eye(50,50)\n",
    "print(i)"
   ]
  },
  {
   "cell_type": "code",
   "execution_count": 23,
   "metadata": {},
   "outputs": [
    {
     "name": "stdout",
     "output_type": "stream",
     "text": [
      "[[ 0.18102639  0.76866311  0.68582739  0.5831867   0.12695419  0.21665906\n",
      "   0.14115377  0.87739302  0.50788009  0.49249752  0.78698736  0.55509479\n",
      "   0.03298402  0.18345749  0.95500475  0.12472377  0.10614877  0.74420602\n",
      "   0.02394411  0.02694063]\n",
      " [ 0.63291097  0.83325861  0.09009602  0.24239781  0.19227194  0.24636141\n",
      "   0.2793238   0.46783643  0.65015095  0.63501058  0.58287216  0.99277521\n",
      "   0.95909801  0.00837529  0.87073025  0.46731035  0.73584478  0.32999601\n",
      "   0.69715475  0.08303711]\n",
      " [ 0.41483517  0.92486368  0.56990131  0.18614826  0.72138894  0.68373982\n",
      "   0.48651464  0.15493379  0.61189683  0.5689288   0.22654448  0.8431009\n",
      "   0.35910306  0.89757592  0.56122667  0.32693524  0.44148818  0.47534198\n",
      "   0.42777676  0.75420844]\n",
      " [ 0.64234729  0.15376319  0.69725143  0.57604027  0.77432248  0.93677097\n",
      "   0.20881361  0.33090085  0.90138207  0.52434803  0.41605799  0.78803626\n",
      "   0.68837568  0.1225403   0.75600655  0.16553406  0.47816697  0.21809759\n",
      "   0.16164162  0.49456981]\n",
      " [ 0.6046665   0.21747253  0.32272674  0.21850535  0.44599782  0.62634932\n",
      "   0.37839772  0.10357812  0.65637406  0.95165877  0.11095806  0.85513432\n",
      "   0.47353683  0.22664987  0.42392845  0.06986255  0.69285527  0.78573232\n",
      "   0.25890785  0.04217257]\n",
      " [ 0.19186169  0.56875306  0.25069556  0.31817691  0.42697678  0.17725748\n",
      "   0.31619163  0.70309825  0.9106362   0.86733125  0.1525804   0.42619582\n",
      "   0.6007155   0.38389817  0.65078736  0.40855475  0.49365074  0.30579168\n",
      "   0.81563946  0.43985618]\n",
      " [ 0.61879128  0.43390681  0.43094265  0.22832619  0.03616374  0.76440328\n",
      "   0.12517361  0.8314644   0.64820917  0.67448263  0.71769364  0.01318362\n",
      "   0.92086131  0.63058856  0.07103029  0.86150393  0.41639812  0.34765663\n",
      "   0.86794653  0.86152471]\n",
      " [ 0.59023003  0.30922721  0.51526715  0.2816991   0.25565253  0.7928735\n",
      "   0.54881479  0.03562984  0.94002217  0.9381141   0.04875401  0.92207798\n",
      "   0.92461392  0.47338793  0.46752709  0.4441711   0.24906865  0.65491257\n",
      "   0.99015672  0.54076339]\n",
      " [ 0.01074924  0.25875328  0.60898597  0.22007437  0.28494561  0.17206025\n",
      "   0.90157062  0.84095446  0.98810152  0.01362148  0.75254732  0.71416014\n",
      "   0.72152571  0.75196592  0.26598248  0.38816808  0.80292913  0.92245256\n",
      "   0.85985776  0.02608763]\n",
      " [ 0.26975198  0.15874132  0.64344276  0.06056043  0.51731051  0.69372531\n",
      "   0.09984811  0.10812839  0.96517109  0.34124056  0.54889     0.63762536\n",
      "   0.54529718  0.54601839  0.82715728  0.9995382   0.90512963  0.70946753\n",
      "   0.27097548  0.06990339]] \n",
      "Shape =  (10, 20)\n"
     ]
    }
   ],
   "source": [
    "# generate a random matrix of size 10 x 20\n",
    "r = np.random.random((10,20))\n",
    "print(r,'\\nShape = ',r.shape)\n"
   ]
  },
  {
   "cell_type": "code",
   "execution_count": 24,
   "metadata": {},
   "outputs": [
    {
     "data": {
      "text/plain": [
       "array([[ 0.,  0.,  0.,  0.],\n",
       "       [ 0.,  0.,  0.,  0.],\n",
       "       [ 0.,  0.,  0.,  0.]])"
      ]
     },
     "execution_count": 24,
     "metadata": {},
     "output_type": "execute_result"
    }
   ],
   "source": [
    "a"
   ]
  },
  {
   "cell_type": "code",
   "execution_count": 25,
   "metadata": {},
   "outputs": [
    {
     "data": {
      "text/plain": [
       "array([[ 1.,  1.,  1.,  1.],\n",
       "       [ 1.,  1.,  1.,  1.],\n",
       "       [ 1.,  1.,  1.,  1.]])"
      ]
     },
     "execution_count": 25,
     "metadata": {},
     "output_type": "execute_result"
    }
   ],
   "source": [
    "b"
   ]
  },
  {
   "cell_type": "code",
   "execution_count": 26,
   "metadata": {},
   "outputs": [
    {
     "data": {
      "text/plain": [
       "array([[1, 2, 3, 4],\n",
       "       [2, 3, 4, 5],\n",
       "       [3, 4, 5, 6],\n",
       "       [4, 5, 6, 7]])"
      ]
     },
     "execution_count": 26,
     "metadata": {},
     "output_type": "execute_result"
    }
   ],
   "source": [
    "d"
   ]
  },
  {
   "cell_type": "code",
   "execution_count": 28,
   "metadata": {},
   "outputs": [
    {
     "name": "stdout",
     "output_type": "stream",
     "text": [
      "[2 3 4 5]\n"
     ]
    }
   ],
   "source": [
    "print(d[1])"
   ]
  },
  {
   "cell_type": "code",
   "execution_count": 31,
   "metadata": {},
   "outputs": [
    {
     "name": "stdout",
     "output_type": "stream",
     "text": [
      "[[False False  True  True]\n",
      " [False  True  True  True]\n",
      " [ True  True  True  True]\n",
      " [ True  True  True  True]]\n"
     ]
    }
   ],
   "source": [
    "bol = (d > 2)\n",
    "print(bol)"
   ]
  },
  {
   "cell_type": "code",
   "execution_count": 32,
   "metadata": {},
   "outputs": [
    {
     "name": "stdout",
     "output_type": "stream",
     "text": [
      "[3 4 3 4 5 3 4 5 6 4 5 6 7]\n"
     ]
    }
   ],
   "source": [
    "print(d[bol])"
   ]
  },
  {
   "cell_type": "code",
   "execution_count": 37,
   "metadata": {
    "collapsed": true
   },
   "outputs": [],
   "source": [
    "# create a matrix of 3 x 3 with random values \n",
    "td = np.array([\n",
    "    [11,23,34],\n",
    "    [32,44,12],\n",
    "    [3,5,2]\n",
    "])"
   ]
  },
  {
   "cell_type": "code",
   "execution_count": 35,
   "metadata": {},
   "outputs": [
    {
     "name": "stdout",
     "output_type": "stream",
     "text": [
      "[11 23 34 32 44 12]\n",
      "[3 5 2]\n"
     ]
    }
   ],
   "source": [
    "print(th[th > 10])\n",
    "print(th[th < 10])"
   ]
  },
  {
   "cell_type": "code",
   "execution_count": 36,
   "metadata": {},
   "outputs": [
    {
     "name": "stdout",
     "output_type": "stream",
     "text": [
      "[[ 3.31662479  4.79583152  5.83095189]\n",
      " [ 5.65685425  6.63324958  3.46410162]\n",
      " [ 1.73205081  2.23606798  1.41421356]]\n"
     ]
    }
   ],
   "source": [
    "print(np.sqrt(th))"
   ]
  },
  {
   "cell_type": "code",
   "execution_count": 41,
   "metadata": {},
   "outputs": [
    {
     "name": "stdout",
     "output_type": "stream",
     "text": [
      "[[14 20]\n",
      " [18 25]]\n"
     ]
    }
   ],
   "source": [
    "#take two matrix of 2 x2 and appply matrix multiplication\n",
    "aa = np.array([[2,2],[2,3]])\n",
    "bb = np.array([[3,5],[4,5]])\n",
    "print(aa.dot(bb))"
   ]
  },
  {
   "cell_type": "code",
   "execution_count": 42,
   "metadata": {},
   "outputs": [
    {
     "name": "stdout",
     "output_type": "stream",
     "text": [
      "[[16843009 16843009 16843009]\n",
      " [16843009 16843009 16843009]\n",
      " [16843009 16843009 16843009]]\n"
     ]
    }
   ],
   "source": [
    "y = np.empty_like(td)\n",
    "print(y)"
   ]
  },
  {
   "cell_type": "code",
   "execution_count": 43,
   "metadata": {},
   "outputs": [
    {
     "name": "stdout",
     "output_type": "stream",
     "text": [
      "[[11 23 34]\n",
      " [32 44 12]\n",
      " [ 3  5  2]]\n"
     ]
    }
   ],
   "source": [
    "print(td)"
   ]
  },
  {
   "cell_type": "code",
   "execution_count": 46,
   "metadata": {
    "collapsed": true
   },
   "outputs": [],
   "source": [
    "import pandas as pd\n",
    "# create a dataframe of student names and students marks\n",
    "data = pd.DataFrame({\n",
    "    'Sr No':[1,2,3,4],\n",
    "    'Name':['Adam','Ali','Moaz','Gohar'],\n",
    "    'Marks':[50,34,90,43]\n",
    "})"
   ]
  },
  {
   "cell_type": "code",
   "execution_count": 47,
   "metadata": {},
   "outputs": [
    {
     "data": {
      "text/html": [
       "<div>\n",
       "<style>\n",
       "    .dataframe thead tr:only-child th {\n",
       "        text-align: right;\n",
       "    }\n",
       "\n",
       "    .dataframe thead th {\n",
       "        text-align: left;\n",
       "    }\n",
       "\n",
       "    .dataframe tbody tr th {\n",
       "        vertical-align: top;\n",
       "    }\n",
       "</style>\n",
       "<table border=\"1\" class=\"dataframe\">\n",
       "  <thead>\n",
       "    <tr style=\"text-align: right;\">\n",
       "      <th></th>\n",
       "      <th>Marks</th>\n",
       "      <th>Name</th>\n",
       "      <th>Sr No</th>\n",
       "    </tr>\n",
       "  </thead>\n",
       "  <tbody>\n",
       "    <tr>\n",
       "      <th>0</th>\n",
       "      <td>50</td>\n",
       "      <td>Adam</td>\n",
       "      <td>1</td>\n",
       "    </tr>\n",
       "    <tr>\n",
       "      <th>1</th>\n",
       "      <td>34</td>\n",
       "      <td>Ali</td>\n",
       "      <td>2</td>\n",
       "    </tr>\n",
       "    <tr>\n",
       "      <th>2</th>\n",
       "      <td>90</td>\n",
       "      <td>Moaz</td>\n",
       "      <td>3</td>\n",
       "    </tr>\n",
       "    <tr>\n",
       "      <th>3</th>\n",
       "      <td>43</td>\n",
       "      <td>Gohar</td>\n",
       "      <td>4</td>\n",
       "    </tr>\n",
       "  </tbody>\n",
       "</table>\n",
       "</div>"
      ],
      "text/plain": [
       "   Marks   Name  Sr No\n",
       "0     50   Adam      1\n",
       "1     34    Ali      2\n",
       "2     90   Moaz      3\n",
       "3     43  Gohar      4"
      ]
     },
     "execution_count": 47,
     "metadata": {},
     "output_type": "execute_result"
    }
   ],
   "source": [
    "data"
   ]
  },
  {
   "cell_type": "code",
   "execution_count": null,
   "metadata": {
    "collapsed": true
   },
   "outputs": [],
   "source": []
  }
 ],
 "metadata": {
  "kernelspec": {
   "display_name": "Python 3",
   "language": "python",
   "name": "python3"
  },
  "language_info": {
   "codemirror_mode": {
    "name": "ipython",
    "version": 3
   },
   "file_extension": ".py",
   "mimetype": "text/x-python",
   "name": "python",
   "nbconvert_exporter": "python",
   "pygments_lexer": "ipython3",
   "version": "3.6.2"
  }
 },
 "nbformat": 4,
 "nbformat_minor": 2
}
